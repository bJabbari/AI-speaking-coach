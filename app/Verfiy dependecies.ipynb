{
 "cells": [
  {
   "metadata": {
    "ExecuteTime": {
     "end_time": "2025-03-28T04:43:34.963914Z",
     "start_time": "2025-03-28T04:43:27.099115Z"
    }
   },
   "cell_type": "code",
   "source": [
    "import sys\n",
    "import torch\n",
    "import transformers\n",
    "\n",
    "def check_installation():\n",
    "    print(\"Python Version:\", sys.version)\n",
    "    print(\"PyTorch Version:\", torch.__version__)\n",
    "    print(\"Transformers Version:\", transformers.__version__)\n",
    "    \n",
    "    try:\n",
    "        from transformers import Blip2Processor, Blip2ForConditionalGeneration\n",
    "        print(\"\\nBLIP-2 Imports Successful!\")\n",
    "    except Exception as e:\n",
    "        print(\"\\nBLIP-2 Import Failed:\")\n",
    "        print(str(e))\n",
    "    \n",
    "    # Additional checks\n",
    "    print(\"\\nTorch CUDA Available:\", torch.cuda.is_available())\n",
    "    print(\"Transformers Backends:\", transformers.is_torch_available())\n",
    "\n",
    "check_installation()"
   ],
   "id": "35ea1337fa218a07",
   "outputs": [
    {
     "name": "stdout",
     "output_type": "stream",
     "text": [
      "Python Version: 3.10.16 | packaged by Anaconda, Inc. | (main, Dec 11 2024, 16:19:12) [MSC v.1929 64 bit (AMD64)]\n",
      "PyTorch Version: 2.5.1+cu121\n",
      "Transformers Version: 4.50.2\n",
      "\n",
      "BLIP-2 Imports Successful!\n",
      "\n",
      "Torch CUDA Available: True\n",
      "Transformers Backends: True\n"
     ]
    }
   ],
   "execution_count": 1
  },
  {
   "metadata": {
    "ExecuteTime": {
     "end_time": "2025-03-28T04:43:53.547499Z",
     "start_time": "2025-03-28T04:43:53.515676Z"
    }
   },
   "cell_type": "code",
   "source": [
    "import torch\n",
    "import sys\n",
    "\n",
    "print(\"Python Version:\", sys.version)\n",
    "print(\"PyTorch Version:\", torch.__version__)\n",
    "print(\"CUDA Version:\", torch.version.cuda)\n",
    "print(\"cuDNN Version:\", torch.backends.cudnn.version())\n",
    "print(\"Current Device:\", torch.cuda.current_device() if torch.cuda.is_available() else \"No CUDA\")\n",
    "print(\"Device Count:\", torch.cuda.device_count())\n",
    "\n",
    "if torch.cuda.is_available():\n",
    "    print(\"\\nGPU Details:\")\n",
    "    for i in range(torch.cuda.device_count()):\n",
    "        print(f\"GPU {i}: {torch.cuda.get_device_name(i)}\")\n",
    "        props = torch.cuda.get_device_properties(i)\n",
    "        print(f\"  Memory: {props.total_memory / 1e9:.2f} GB\")\n",
    "        print(f\"  Compute Capability: {props.major}.{props.minor}\")"
   ],
   "id": "d34b0263a91d7bf8",
   "outputs": [
    {
     "name": "stdout",
     "output_type": "stream",
     "text": [
      "Python Version: 3.10.16 | packaged by Anaconda, Inc. | (main, Dec 11 2024, 16:19:12) [MSC v.1929 64 bit (AMD64)]\n",
      "PyTorch Version: 2.5.1+cu121\n",
      "CUDA Version: 12.1\n",
      "cuDNN Version: 90100\n",
      "Current Device: 0\n",
      "Device Count: 1\n",
      "\n",
      "GPU Details:\n",
      "GPU 0: NVIDIA GeForce RTX 4070 Laptop GPU\n",
      "  Memory: 8.59 GB\n",
      "  Compute Capability: 8.9\n"
     ]
    }
   ],
   "execution_count": 4
  },
  {
   "metadata": {
    "ExecuteTime": {
     "end_time": "2025-03-28T04:43:48.316033Z",
     "start_time": "2025-03-28T04:43:48.300217Z"
    }
   },
   "cell_type": "code",
   "source": "",
   "id": "bc88fb80ab9145a2",
   "outputs": [],
   "execution_count": 3
  },
  {
   "metadata": {},
   "cell_type": "code",
   "outputs": [],
   "execution_count": null,
   "source": "",
   "id": "b563dae977630089"
  }
 ],
 "metadata": {
  "kernelspec": {
   "display_name": "Python 3",
   "language": "python",
   "name": "python3"
  },
  "language_info": {
   "codemirror_mode": {
    "name": "ipython",
    "version": 2
   },
   "file_extension": ".py",
   "mimetype": "text/x-python",
   "name": "python",
   "nbconvert_exporter": "python",
   "pygments_lexer": "ipython2",
   "version": "2.7.6"
  }
 },
 "nbformat": 4,
 "nbformat_minor": 5
}
